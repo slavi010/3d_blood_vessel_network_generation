{
 "cells": [
  {
   "cell_type": "markdown",
   "metadata": {},
   "source": []
  },
  {
   "cell_type": "markdown",
   "source": [
    "# Creating blood vessels network in 3D via a 3D matrix vector representation.\n",
    "The matrix is stored as a sparse matrix via a hashmap (dict) to save memory.\n",
    "This matrix represent vectors. Multiple nonzero close vectors pointing to the same direction represent a flow like a vessel."
   ],
   "metadata": {
    "collapsed": false
   }
  },
  {
   "cell_type": "code",
   "execution_count": null,
   "metadata": {},
   "outputs": [],
   "source": [
    "from functools import reduce\n",
    "\n",
    "import numpy as np\n",
    "from sparray import sparray\n",
    "import matplotlib.pyplot as plt\n",
    "from mpl_toolkits.mplot3d import Axes3D"
   ]
  },
  {
   "cell_type": "code",
   "execution_count": null,
   "metadata": {},
   "outputs": [],
   "source": [
    "def extend_vessel(m, x: int, y: int, z: int, distance: int, submatrix_shape: tuple):\n",
    "    \"\"\"Extend a vessel in the matrix m at the point (x, y, z)\n",
    "\n",
    "    The point (x, y, z) must be a nonzero point in the matrix m.\n",
    "    It will edit the next nonzero point in the direction of the vector + the direction of the sum of all the neighbors vectors in a submatrix of shape=(X, X, X) and the euclidean distance between each of them.\n",
    "    This function will edit the matrix m in place to extend the vessel.\n",
    "    \"\"\"\n",
    "    # Get the vector at the point (x, y, z)\n",
    "    vector = m[x, y, z]\n",
    "    # Get the submatrix of shape (X, X, X) centered at the point (x, y, z)\n",
    "    submatrix = m.virtual_projection()[x - submatrix_shape[0] // 2: x + submatrix_shape[0] // 2,\n",
    "                y - submatrix_shape[1] // 2: y + submatrix_shape[1] // 2,\n",
    "                z - submatrix_shape[2] // 2: z + submatrix_shape[2] // 2]\n",
    "    # submatrix is an array of (X, 3) where the second dimension is the vector\n",
    "    # Get the sum of all the vectors in the submatrix using fold\n",
    "    sum_vector = reduce(lambda v1, v2: (v1[0] + v2[0], v1[1] + v2[1], v1[2] + v2[2]), submatrix.get_data())\n",
    "\n",
    "    # Get the next point in the direction of the vector + the direction of the sum of all the neighbors vectors\n",
    "    next_point = (vector[0] + sum_vector[0], vector[1] + sum_vector[1], vector[2] + sum_vector[2])\n",
    "\n",
    "    # Sum of the relative vector between x, y, z and each point in the submatrix\n",
    "    # PS: This part is the most time-consuming, It's why, maybe an r-tree could be used to speed up the process\n",
    "    rotation = [0, 0, 0]\n",
    "    for i in range(x - submatrix_shape[0] // 2, x + submatrix_shape[0] // 2):\n",
    "        for j in range(y - submatrix_shape[1] // 2, y + submatrix_shape[1] // 2):\n",
    "            for k in range(z - submatrix_shape[2] // 2, z + submatrix_shape[2] // 2):\n",
    "                if m[i, j, k] != (0, 0, 0):\n",
    "                    rotation[0] += x - i\n",
    "                    rotation[1] += y - j\n",
    "                    rotation[2] += z - k\n",
    "    norm_rotation = np.linalg.norm(rotation)\n",
    "    norm_sum_vector = np.linalg.norm(sum_vector)\n",
    "    # Normalize the rotation vector\n",
    "    rotation = (rotation[0] / (norm_rotation + 1) * norm_sum_vector,\n",
    "                rotation[1] / (norm_rotation + 1) * norm_sum_vector,\n",
    "                rotation[2] / (norm_rotation + 1) * norm_sum_vector)\n",
    "\n",
    "    next_point = (next_point[0] + rotation[0],\n",
    "                  next_point[1] + rotation[1],\n",
    "                  next_point[2] + rotation[2])\n",
    "\n",
    "    # Normalize the next point with the distance (sphere)\n",
    "    norm = np.linalg.norm(next_point)\n",
    "    next_point = (next_point[0] / norm * distance, next_point[1] / norm * distance, next_point[2] / norm * distance)\n",
    "\n",
    "    # Add a bit of randomness to the next\n",
    "    next_point = (next_point[0] + np.random.uniform(-2, 2), next_point[1] + np.random.uniform(-2, 2),\n",
    "                  next_point[2] + np.random.uniform(-2, 2))\n",
    "\n",
    "    # # Add a little curve to point to the center of the matrix\n",
    "    # next_point = (min(0.5, next_point[0] + (5000 - x) / 100),\n",
    "    #               min(0.5, next_point[1] + (5000 - y) / 100),\n",
    "    #               min(0.5, next_point[2] + (5000 - z) / 100))\n",
    "\n",
    "    # discretize the next point\n",
    "    next_point = (int(next_point[0]), int(next_point[1]), int(next_point[2]))\n",
    "\n",
    "    coord_next_point = (x + next_point[0], y + next_point[1], z + next_point[2])\n",
    "\n",
    "    # set the point vector value\n",
    "    m[coord_next_point] \\\n",
    "        = (next_point[0] / distance, next_point[1] / distance, next_point[2] / distance)\n",
    "\n",
    "    # Return the next point\n",
    "    return coord_next_point"
   ]
  },
  {
   "cell_type": "markdown",
   "metadata": {},
   "source": [
    "Plot the parse matrix"
   ]
  },
  {
   "cell_type": "code",
   "execution_count": null,
   "metadata": {},
   "outputs": [],
   "source": [
    "def plot_matrix(m, distance: int):\n",
    "    items = m.get_items()  # list of tuples (coords, vector)\n",
    "    plt.close('all')\n",
    "    fig = plt.figure()\n",
    "    ax = fig.add_subplot(111, projection='3d')\n",
    "    for item in items:\n",
    "        x, y, z = item[0]  # coords\n",
    "        u, v, w = item[1]  # vector value\n",
    "        # also add colors depending on the vector\n",
    "        ax.quiver(x, y, z, u, v, w, length=distance, normalize=True,\n",
    "                  color=((distance + u) / 10, (distance + v) / 10, (distance + w) / 10))\n",
    "    plt.show()"
   ]
  },
  {
   "cell_type": "code",
   "execution_count": null,
   "metadata": {},
   "outputs": [],
   "source": [
    "def creat_vessel(m, x: int, y: int, z: int, distance: int, submatrix_shape: tuple | None, length: int):\n",
    "    \"\"\"Create a vessel in the matrix m at the beginning point (x, y, z)\n",
    "\n",
    "    The point (x, y, z) must be a nonzero point in the matrix m.\n",
    "    If the submatrix_shape is None, the submatrix shape will be computed automatically (log(length) * 4 + 1),\n",
    "    more the length is big, more the submatrix shape will be big (to simulate a bigger vessel).\n",
    "    Length is the number of points in the vessel.\n",
    "\n",
    "    The vessel can split in two at each point with a certain probability.\n",
    "    When the vessel split, the length of the new vessel is half the length of the original vessel.\n",
    "    Same for the original vessel.\n",
    "    \"\"\"\n",
    "    if submatrix_shape is None:\n",
    "        submatrix_shape = int(np.log(length)) * 4 + 1\n",
    "        submatrix_shape = (submatrix_shape, submatrix_shape, submatrix_shape)\n",
    "\n",
    "    i = 0\n",
    "    while i < length:\n",
    "        next_point = extend_vessel(m, x, y, z, distance, submatrix_shape)\n",
    "        x, y, z = next_point\n",
    "\n",
    "        # chance to split the vessel\n",
    "        if np.random.uniform(0, 1) < 0.01:\n",
    "            print(\"split \", length - i)\n",
    "            i += (length - i) // 2\n",
    "            creat_vessel(m, x + 1, y - 2, z, distance, submatrix_shape, (length - i) // 2)\n",
    "        i += 1"
   ]
  },
  {
   "cell_type": "code",
   "execution_count": null,
   "metadata": {},
   "outputs": [],
   "source": [
    "m = sparray(shape=(10000, 10000, 10000), default=(0, 0, 0))"
   ]
  },
  {
   "cell_type": "code",
   "execution_count": null,
   "metadata": {},
   "outputs": [],
   "source": [
    "next_point = (5001, 5001, 5001)\n",
    "m[next_point] = (1, 0, 0)\n",
    "\n",
    "creat_vessel(m, next_point[0], next_point[1], next_point[2], 2, None, 1000)"
   ]
  },
  {
   "cell_type": "code",
   "execution_count": null,
   "metadata": {},
   "outputs": [],
   "source": [
    "%matplotlib notebook\n",
    "plot_matrix(m, 2)"
   ]
  },
  {
   "cell_type": "markdown",
   "metadata": {},
   "source": []
  }
 ],
 "metadata": {
  "kernelspec": {
   "display_name": "Python 3 (ipykernel)",
   "language": "python",
   "name": "python3"
  },
  "language_info": {
   "codemirror_mode": {
    "name": "ipython",
    "version": 3
   },
   "file_extension": ".py",
   "mimetype": "text/x-python",
   "name": "python",
   "nbconvert_exporter": "python",
   "pygments_lexer": "ipython3",
   "version": "3.10.7"
  }
 },
 "nbformat": 4,
 "nbformat_minor": 1
}
